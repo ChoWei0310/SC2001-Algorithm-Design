{
 "cells": [
  {
   "cell_type": "code",
   "execution_count": null,
   "id": "adf04e4d-6ceb-44c5-b9f3-01358d9fc37b",
   "metadata": {},
   "outputs": [],
   "source": [
    "from ipynb.fs.full.arrayGenerator import factorial"
   ]
  },
  {
   "cell_type": "code",
   "execution_count": 9,
   "id": "d851474a-d813-428e-a8fa-7fc2c38ef48b",
   "metadata": {},
   "outputs": [],
   "source": [
    "comparison_count = 0"
   ]
  },
  {
   "cell_type": "code",
   "execution_count": 11,
   "id": "f8e8e8e6",
   "metadata": {},
   "outputs": [
    {
     "name": "stdout",
     "output_type": "stream",
     "text": [
      "Sorted array: [3, 9, 10, 27, 38, 43, 82]\n"
     ]
    }
   ],
   "source": [
    "def insertion_sort(a_list, start, end):\n",
    "    global comparison_count\n",
    "    for i in range(start + 1, end + 1):\n",
    "        for j in range(i, start, -1):\n",
    "            comparison_count+=1\n",
    "            if a_list[j] < a_list[j - 1]:\n",
    "                a_list[j], a_list[j - 1] = a_list[j - 1], a_list[j]\n",
    "            else:\n",
    "                break\n",
    "\n",
    "\n",
    "def merge(slot, start, midpointer, end):\n",
    "    global comparison_count\n",
    "    n = start\n",
    "    m = end\n",
    "    mid = midpointer\n",
    "    a = n\n",
    "    b = mid + 1\n",
    "\n",
    "    if m - n <= 0:\n",
    "        return\n",
    "\n",
    "    while a <= mid and b <= m:\n",
    "        comparison_count += 1\n",
    "        if slot[a] <= slot[b]:  # No swap needed\n",
    "            a += 1\n",
    "        else:  # slot[a] > slot[b]\n",
    "            tmp = slot[b]\n",
    "            b += 1\n",
    "\n",
    "            for i in range(mid + 1, a, -1):\n",
    "                slot[i] = slot[i - 1]\n",
    "\n",
    "            slot[a] = tmp\n",
    "            a += 1\n",
    "            mid += 1\n",
    "\n",
    "\n",
    "def merge_insertion_sort(slot, start, end, threshold):\n",
    "    if end - start <= threshold:\n",
    "        insertion_sort(slot, start, end)\n",
    "    else:\n",
    "        mid = (start + end) // 2\n",
    "\n",
    "        merge_insertion_sort(slot, start, mid, threshold)\n",
    "        merge_insertion_sort(slot, mid + 1, end, threshold)\n",
    "\n",
    "        merge(slot, start, mid, end)\n",
    "\n",
    "\n",
    "def hybrid_merge_insertion_sort(arr, threshold=10):\n",
    "    global comparison_count\n",
    "    comparison_count = 0\n",
    "    merge_insertion_sort(arr, 0, len(arr) - 1, threshold)\n",
    "    return arr"
   ]
  },
  {
   "cell_type": "code",
   "execution_count": 13,
   "id": "49d3f2d3-f38d-4d19-a309-010626203eb2",
   "metadata": {},
   "outputs": [
    {
     "name": "stdout",
     "output_type": "stream",
     "text": [
      "Number of comparisons: 0\n"
     ]
    },
    {
     "name": "stderr",
     "output_type": "stream",
     "text": [
      "C:\\Users\\tq121\\AppData\\Local\\Temp\\ipykernel_36588\\3663933963.py:5: FutureWarning: The 'delim_whitespace' keyword in pd.read_csv is deprecated and will be removed in a future version. Use ``sep='\\s+'`` instead\n",
      "  df = pd.read_csv(file_path, header=None, delim_whitespace=True)\n"
     ]
    }
   ],
   "source": [
    "import pandas as pd\n",
    "\n",
    "def read_file_as_dataframe(file_path):\n",
    "    # Read the file into a pandas DataFrame\n",
    "    df = pd.read_csv(file_path, header=None, delim_whitespace=True)\n",
    "    \n",
    "    # If the file is comma-separated instead of space-separated, use:\n",
    "    # df = pd.read_csv(file_path, header=None)\n",
    "    \n",
    "    return df\n",
    "\n",
    "if __name__ == \"__main__\":\n",
    "    # Specify the path to your file\n",
    "    file_path = '1k-data.txt'\n",
    "    \n",
    "    # Read the file into a DataFrame\n",
    "    df = read_file_as_dataframe(file_path)\n",
    "    \n",
    "    # Display the first few rows of the DataFrame as a table\n",
    "    # print(df.head())  # Display the first 5 rows by default\n",
    "    \n",
    "    # Optional: Convert the DataFrame into a list for sorting\n",
    "    arr = df.values.flatten().tolist()\n",
    "    \n",
    "    # Sort the array using merge_sort\n",
    "    sorted_arr = hybrid_merge_insertion_sort(arr)\n",
    "    \n",
    "    # Output the sorted array\n",
    "    # print(f\"Sorted array: {sorted_arr[:100]}...\")  # Printing only the first 100 elements for brevity\n",
    "    print(f\"Number of comparisons: {comparison_count}\")"
   ]
  },
  {
   "cell_type": "code",
   "execution_count": null,
   "id": "c8cbd956-cd6a-481c-80f9-e99cfd6c6467",
   "metadata": {},
   "outputs": [],
   "source": []
  },
  {
   "cell_type": "code",
   "execution_count": null,
   "id": "7c604ef7-5f0f-4275-b880-18d5f5c0ef21",
   "metadata": {},
   "outputs": [],
   "source": []
  }
 ],
 "metadata": {
  "kernelspec": {
   "display_name": "Python 3 (ipykernel)",
   "language": "python",
   "name": "python3"
  },
  "language_info": {
   "codemirror_mode": {
    "name": "ipython",
    "version": 3
   },
   "file_extension": ".py",
   "mimetype": "text/x-python",
   "name": "python",
   "nbconvert_exporter": "python",
   "pygments_lexer": "ipython3",
   "version": "3.11.5"
  }
 },
 "nbformat": 4,
 "nbformat_minor": 5
}
