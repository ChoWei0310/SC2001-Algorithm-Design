{
 "cells": [
  {
   "cell_type": "code",
   "execution_count": 1,
   "id": "adf04e4d-6ceb-44c5-b9f3-01358d9fc37b",
   "metadata": {},
   "outputs": [],
   "source": [
    "import random"
   ]
  },
  {
   "cell_type": "code",
   "execution_count": 2,
   "id": "d851474a-d813-428e-a8fa-7fc2c38ef48b",
   "metadata": {},
   "outputs": [],
   "source": [
    "comparison_count = 0"
   ]
  },
  {
   "cell_type": "code",
   "execution_count": 3,
   "id": "423bc6da-0de5-4a6b-838f-29aee5dc7a50",
   "metadata": {},
   "outputs": [],
   "source": [
    "def generate_random_array(length, min_value=0, max_value=1000000):\n",
    "    \"\"\"\n",
    "    Generate a random array of integers.\n",
    "    \n",
    "    Parameters:\n",
    "    length (int): Length of the array.\n",
    "    min_value (int): Minimum value for array elements.\n",
    "    max_value (int): Maximum value for array elements.\n",
    "\n",
    "    Returns:\n",
    "    list: A list of random integers.\n",
    "    \"\"\"\n",
    "    return [random.randint(min_value, max_value) for _ in range(length)]"
   ]
  },
  {
   "cell_type": "code",
   "execution_count": 4,
   "id": "f8e8e8e6",
   "metadata": {},
   "outputs": [],
   "source": [
    "def insertion_sort(a_list, start, end):\n",
    "    global comparison_count\n",
    "    for i in range(start + 1, end + 1):\n",
    "        for j in range(i, start, -1):\n",
    "            comparison_count+=1\n",
    "            if a_list[j] < a_list[j - 1]:\n",
    "                a_list[j], a_list[j - 1] = a_list[j - 1], a_list[j]\n",
    "            else:\n",
    "                break\n",
    "\n",
    "\n",
    "def merge(slot, start, midpointer, end):\n",
    "    global comparison_count\n",
    "    n = start\n",
    "    m = end\n",
    "    mid = midpointer\n",
    "    a = n\n",
    "    b = mid + 1\n",
    "\n",
    "    if m - n <= 0:\n",
    "        return\n",
    "\n",
    "    while a <= mid and b <= m:\n",
    "        comparison_count += 1\n",
    "        if slot[a] <= slot[b]:  # No swap needed\n",
    "            a += 1\n",
    "        else:  # slot[a] > slot[b]\n",
    "            tmp = slot[b]\n",
    "            b += 1\n",
    "\n",
    "            for i in range(mid + 1, a, -1):\n",
    "                slot[i] = slot[i - 1]\n",
    "\n",
    "            slot[a] = tmp\n",
    "            a += 1\n",
    "            mid += 1\n",
    "\n",
    "\n",
    "def merge_insertion_sort(slot, start, end, threshold):\n",
    "    if end - start <= threshold:\n",
    "        insertion_sort(slot, start, end)\n",
    "    else:\n",
    "        mid = (start + end) // 2\n",
    "\n",
    "        merge_insertion_sort(slot, start, mid, threshold)\n",
    "        merge_insertion_sort(slot, mid + 1, end, threshold)\n",
    "\n",
    "        merge(slot, start, mid, end)\n",
    "\n",
    "\n",
    "def hybrid_merge_insertion_sort(arr, threshold=10):\n",
    "    global comparison_count\n",
    "    comparison_count = 0\n",
    "    merge_insertion_sort(arr, 0, len(arr) - 1, threshold)\n",
    "    return arr"
   ]
  },
  {
   "cell_type": "code",
   "execution_count": 5,
   "id": "49d3f2d3-f38d-4d19-a309-010626203eb2",
   "metadata": {},
   "outputs": [],
   "source": [
    "# import pandas as pd\n",
    "\n",
    "# def read_file_as_dataframe(file_path):\n",
    "#     # Read the file into a pandas DataFrame\n",
    "#     df = pd.read_csv(file_path, header=None, delim_whitespace=True)\n",
    "    \n",
    "#     # If the file is comma-separated instead of space-separated, use:\n",
    "#     # df = pd.read_csv(file_path, header=None)\n",
    "    \n",
    "#     return df\n",
    "\n",
    "# if __name__ == \"__main__\":\n",
    "#     # Specify the path to your file\n",
    "#     file_path = '5000_output_array.txt'\n",
    "    \n",
    "#     # Read the file into a DataFrame\n",
    "#     df = read_file_as_dataframe(file_path)\n",
    "    \n",
    "#     # Display the first few rows of the DataFrame as a table\n",
    "#     # print(df.head())  # Display the first 5 rows by default\n",
    "    \n",
    "#     # Optional: Convert the DataFrame into a list for sorting\n",
    "#     arr = df.values.flatten().tolist()\n",
    "    \n",
    "#     # Sort the array using merge_sort\n",
    "#     sorted_arr = hybrid_merge_insertion_sort(arr)\n",
    "    \n",
    "#     # Output the sorted array\n",
    "#     # print(f\"Sorted array: {sorted_arr[:100]}...\")  # Printing only the first 100 elements for brevity\n",
    "#     print(f\"Number of comparisons: {comparison_count}\")"
   ]
  },
  {
   "cell_type": "code",
   "execution_count": 6,
   "id": "c8cbd956-cd6a-481c-80f9-e99cfd6c6467",
   "metadata": {},
   "outputs": [
    {
     "name": "stdout",
     "output_type": "stream",
     "text": [
      "Array 1: 127077 comparisons\n",
      "Array 2: 126861 comparisons\n",
      "Array 3: 126633 comparisons\n",
      "Array 4: 127161 comparisons\n",
      "Array 5: 127123 comparisons\n",
      "Array 6: 127230 comparisons\n",
      "Array 7: 127173 comparisons\n",
      "Array 8: 126956 comparisons\n",
      "Array 9: 127073 comparisons\n",
      "Array 10: 127235 comparisons\n"
     ]
    }
   ],
   "source": [
    "comparison_counts = []\n",
    "\n",
    "# Loop to generate and sort 10 different arrays\n",
    "for i in range(10):\n",
    "    arr = generate_random_array(10000)\n",
    "    \n",
    "    # Reset comparison_count before sorting\n",
    "    global comparison_count\n",
    "    comparison_count = 0\n",
    "    \n",
    "    # Sort the array and capture the number of comparisons\n",
    "    sorted_arr = hybrid_merge_insertion_sort(arr)\n",
    "    \n",
    "    # Append the number of comparisons for this array to the list\n",
    "    comparison_counts.append(comparison_count)\n",
    "\n",
    "# Output the number of comparisons for each array\n",
    "for i, count in enumerate(comparison_counts):\n",
    "    print(f\"Array {i+1}: {count} comparisons\")"
   ]
  },
  {
   "cell_type": "code",
   "execution_count": null,
   "id": "7c604ef7-5f0f-4275-b880-18d5f5c0ef21",
   "metadata": {},
   "outputs": [],
   "source": []
  }
 ],
 "metadata": {
  "kernelspec": {
   "display_name": "Python 3 (ipykernel)",
   "language": "python",
   "name": "python3"
  },
  "language_info": {
   "codemirror_mode": {
    "name": "ipython",
    "version": 3
   },
   "file_extension": ".py",
   "mimetype": "text/x-python",
   "name": "python",
   "nbconvert_exporter": "python",
   "pygments_lexer": "ipython3",
   "version": "3.12.4"
  }
 },
 "nbformat": 4,
 "nbformat_minor": 5
}
