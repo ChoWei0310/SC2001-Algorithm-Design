{
 "cells": [
  {
   "cell_type": "code",
   "execution_count": 1,
   "id": "adf04e4d-6ceb-44c5-b9f3-01358d9fc37b",
   "metadata": {},
   "outputs": [],
   "source": [
    "import random"
   ]
  },
  {
   "cell_type": "code",
   "execution_count": 2,
   "id": "d851474a-d813-428e-a8fa-7fc2c38ef48b",
   "metadata": {},
   "outputs": [],
   "source": [
    "comparison_count = 0"
   ]
  },
  {
   "cell_type": "code",
   "execution_count": 3,
   "id": "423bc6da-0de5-4a6b-838f-29aee5dc7a50",
   "metadata": {},
   "outputs": [],
   "source": [
    "def generate_random_array(length, min_value=0, max_value=1000000):\n",
    "    \"\"\"\n",
    "    Generate a random array of integers.\n",
    "    \n",
    "    Parameters:\n",
    "    length (int): Length of the array.\n",
    "    min_value (int): Minimum value for array elements.\n",
    "    max_value (int): Maximum value for array elements.\n",
    "\n",
    "    Returns:\n",
    "    list: A list of random integers.\n",
    "    \"\"\"\n",
    "    return [random.randint(min_value, max_value) for _ in range(length)]"
   ]
  },
  {
   "cell_type": "code",
   "execution_count": 4,
   "id": "f8e8e8e6",
   "metadata": {},
   "outputs": [],
   "source": [
    "def insertion_sort(a_list, start, end):\n",
    "    global comparison_count\n",
    "    for i in range(start + 1, end + 1):\n",
    "        for j in range(i, start, -1):\n",
    "            comparison_count+=1\n",
    "            if a_list[j] < a_list[j - 1]:\n",
    "                a_list[j], a_list[j - 1] = a_list[j - 1], a_list[j]\n",
    "            else:\n",
    "                break\n",
    "\n",
    "\n",
    "def merge(slot, start, midpointer, end):\n",
    "    global comparison_count\n",
    "    n = start\n",
    "    m = end\n",
    "    mid = midpointer\n",
    "    a = n\n",
    "    b = mid + 1\n",
    "\n",
    "    if m - n <= 0:\n",
    "        return\n",
    "\n",
    "    while a <= mid and b <= m:\n",
    "        comparison_count += 1\n",
    "        if slot[a] <= slot[b]:  # No swap needed\n",
    "            a += 1\n",
    "        elif slot[a]>slot[b]:  # slot[a] > slot[b]\n",
    "            tmp = slot[b]\n",
    "            b += 1\n",
    "            for i in range(mid + 1, a, -1):\n",
    "                slot[i] = slot[i - 1]\n",
    "            slot[a] = tmp\n",
    "            a += 1\n",
    "            mid += 1\n",
    "        else: # slot[a] == slot[b]\n",
    "            if a == mid and b == m:\n",
    "                break\n",
    "            tmp = slot[b]\n",
    "            b += 1\n",
    "            a += 1\n",
    "            for i in range(mid + 1, a, -1):\n",
    "                slot[i] = slot[i - 1]\n",
    "            slot[a] = tmp\n",
    "            a += 1\n",
    "            break\n",
    "\n",
    "def merge_insertion_sort(slot, start, end, threshold):\n",
    "    if end - start <= threshold:\n",
    "        insertion_sort(slot, start, end)\n",
    "    else:\n",
    "        mid = (start + end) // 2\n",
    "\n",
    "        merge_insertion_sort(slot, start, mid, threshold)\n",
    "        merge_insertion_sort(slot, mid + 1, end, threshold)\n",
    "\n",
    "        merge(slot, start, mid, end)\n",
    "\n",
    "\n",
    "def hybrid_merge_insertion_sort(arr, threshold=10):\n",
    "    global comparison_count\n",
    "    comparison_count = 0\n",
    "    merge_insertion_sort(arr, 0, len(arr) - 1, threshold)\n",
    "    return arr"
   ]
  },
  {
   "cell_type": "code",
   "execution_count": 5,
   "id": "fc7358e6-3aa3-4ea7-b5e1-12d946a2457f",
   "metadata": {},
   "outputs": [],
   "source": [
    "# Original Merge Sort Implementation\n",
    "def merge_sort(arr, start, end):\n",
    "    if start < end:\n",
    "        mid = (start + end) // 2\n",
    "        merge_sort(arr, start, mid)\n",
    "        merge_sort(arr, mid + 1, end)\n",
    "        merge(arr, start, mid, end)\n",
    "\n",
    "def standard_merge_sort(arr):\n",
    "    global comparison_count\n",
    "    comparison_count = 0\n",
    "    merge_sort(arr, 0, len(arr) - 1)\n",
    "    return arr"
   ]
  },
  {
   "cell_type": "code",
   "execution_count": 20,
   "id": "c8cbd956-cd6a-481c-80f9-e99cfd6c6467",
   "metadata": {},
   "outputs": [
    {
     "name": "stdout",
     "output_type": "stream",
     "text": [
      "Hybrid Merge-Insertion Sort Comparisons:\n",
      "Array 1: 19 comparisons\n",
      "Array 2: 33 comparisons\n",
      "Array 3: 23 comparisons\n",
      "Array 4: 33 comparisons\n",
      "Array 5: 28 comparisons\n",
      "\n",
      "Standard Merge Sort Comparisons:\n",
      "Array 1: 24 comparisons\n",
      "Array 2: 22 comparisons\n",
      "Array 3: 23 comparisons\n",
      "Array 4: 22 comparisons\n",
      "Array 5: 23 comparisons\n"
     ]
    }
   ],
   "source": [
    "# Initialize a list to store comparison counts for each sorting method\n",
    "comparison_counts_hybrid = []\n",
    "comparison_counts_standard = []\n",
    "\n",
    "# Loop to generate and sort 10 different arrays\n",
    "for i in range(5):\n",
    "    arr = generate_random_array(10)\n",
    "\n",
    "    # Reset and use hybrid_merge_insertion_sort\n",
    "    global comparison_count\n",
    "    comparison_count = 0\n",
    "    sorted_arr_hybrid = hybrid_merge_insertion_sort(arr.copy())\n",
    "    comparison_counts_hybrid.append(comparison_count)\n",
    "\n",
    "    # Reset and use standard_merge_sort\n",
    "    comparison_count = 0\n",
    "    sorted_arr_standard = standard_merge_sort(arr.copy())\n",
    "    comparison_counts_standard.append(comparison_count)\n",
    "\n",
    "# Output the number of comparisons for each array and each method\n",
    "print(\"Hybrid Merge-Insertion Sort Comparisons:\")\n",
    "for i, count in enumerate(comparison_counts_hybrid):\n",
    "    print(f\"Array {i+1}: {count} comparisons\")\n",
    "\n",
    "print(\"\\nStandard Merge Sort Comparisons:\")\n",
    "for i, count in enumerate(comparison_counts_standard):\n",
    "    print(f\"Array {i+1}: {count} comparisons\")"
   ]
  },
  {
   "cell_type": "code",
   "execution_count": null,
   "id": "463ac1ce-8e65-4177-a134-704947455f33",
   "metadata": {},
   "outputs": [],
   "source": []
  }
 ],
 "metadata": {
  "kernelspec": {
   "display_name": "Python 3 (ipykernel)",
   "language": "python",
   "name": "python3"
  },
  "language_info": {
   "codemirror_mode": {
    "name": "ipython",
    "version": 3
   },
   "file_extension": ".py",
   "mimetype": "text/x-python",
   "name": "python",
   "nbconvert_exporter": "python",
   "pygments_lexer": "ipython3",
   "version": "3.12.4"
  }
 },
 "nbformat": 4,
 "nbformat_minor": 5
}
