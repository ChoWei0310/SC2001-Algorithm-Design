{
 "cells": [
  {
   "cell_type": "code",
   "execution_count": 1,
   "id": "bfb03021-aa64-4386-a46c-ef255db9b5ae",
   "metadata": {},
   "outputs": [
    {
     "name": "stdout",
     "output_type": "stream",
     "text": [
      "234171641\n",
      "102.00002908706665\n"
     ]
    }
   ],
   "source": [
    "import random\n",
    "import time\n",
    "\n",
    "THRESHOLD_VALUE = 20\n",
    "MAX_VALUE = 100000000\n",
    "\n",
    "comparisons = 0\n",
    "\n",
    "def InsertionSort(arr):\n",
    "    for i in range(1, len(arr)):\n",
    "        key = arr[i]\n",
    "        j = i - 1\n",
    "        while j >= 0 and key < arr[j]:\n",
    "            global comparisons\n",
    "            comparisons += 1\n",
    "            arr[j + 1] = arr[j]\n",
    "            j -= 1\n",
    "        arr[j + 1] = key\n",
    "\n",
    "def HybridSort(arr, S):\n",
    "    if len(arr) > 1:\n",
    "        mid = len(arr) // 2\n",
    "        left = arr[0:mid]\n",
    "        right = arr[mid:]\n",
    "\n",
    "        if len(left) > THRESHOLD_VALUE:\n",
    "            HybridSort(left, S)\n",
    "        else:\n",
    "            InsertionSort(left)\n",
    "\n",
    "        if len(right) > THRESHOLD_VALUE:\n",
    "            HybridSort(right, S)\n",
    "        else:\n",
    "            InsertionSort(right)\n",
    "\n",
    "        i = j = k = 0\n",
    "        while i < len(left) and j < len(right):\n",
    "            global comparisons\n",
    "            comparisons += 1\n",
    "            if left[i] < right[j]:\n",
    "                arr[k] = left[i]\n",
    "                i += 1\n",
    "            else:\n",
    "                arr[k] = right[j]\n",
    "                j += 1\n",
    "            k += 1\n",
    "\n",
    "        while i < len(left):\n",
    "            arr[k] = left[i]\n",
    "            i += 1\n",
    "            k += 1\n",
    "\n",
    "        while j < len(right):\n",
    "            arr[k] = right[j]\n",
    "            j += 1\n",
    "            k += 1\n",
    "            \n",
    "def main():\n",
    "  test = random.sample(range(1, MAX_VALUE), 10000000)\n",
    "  global comparisons\n",
    "  comparisons = 0\n",
    "\n",
    "  startingTime = time.time()\n",
    "  HybridSort(test, THRESHOLD_VALUE)\n",
    "  endingTime = time.time()\n",
    "  print(comparisons)\n",
    "  print(endingTime-startingTime)\n",
    "  \n",
    "main()"
   ]
  },
  {
   "cell_type": "code",
   "execution_count": null,
   "id": "7ec34caa-5f98-4388-8d1b-ea4ef2d96782",
   "metadata": {},
   "outputs": [],
   "source": []
  }
 ],
 "metadata": {
  "kernelspec": {
   "display_name": "Python 3 (ipykernel)",
   "language": "python",
   "name": "python3"
  },
  "language_info": {
   "codemirror_mode": {
    "name": "ipython",
    "version": 3
   },
   "file_extension": ".py",
   "mimetype": "text/x-python",
   "name": "python",
   "nbconvert_exporter": "python",
   "pygments_lexer": "ipython3",
   "version": "3.12.4"
  }
 },
 "nbformat": 4,
 "nbformat_minor": 5
}
