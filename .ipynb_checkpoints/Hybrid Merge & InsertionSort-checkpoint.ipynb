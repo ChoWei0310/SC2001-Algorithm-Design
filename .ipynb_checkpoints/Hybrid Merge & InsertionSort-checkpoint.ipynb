{
 "cells": [
  {
   "cell_type": "code",
   "execution_count": null,
   "id": "adf04e4d-6ceb-44c5-b9f3-01358d9fc37b",
   "metadata": {},
   "outputs": [],
   "source": [
    "from ipynb.fs.full.arrayGenerator import factorial"
   ]
  },
  {
   "cell_type": "code",
   "execution_count": 3,
   "id": "f8e8e8e6",
   "metadata": {},
   "outputs": [
    {
     "name": "stdout",
     "output_type": "stream",
     "text": [
      "slot: [1, 2, 4]\n",
      "left: [1]\n",
      "right: [2, 4]\n",
      "====================================================================================================\n",
      "slot: [2, 4]\n",
      "left: [2]\n",
      "right: [4]\n",
      "====================================================================================================\n",
      "slot Before merge: [2, 4]\n",
      "start: 0, mid: 0, end: 1\n",
      "slot After merge: [2, 4]\n",
      "slot Before merge: [1, 2, 4]\n",
      "start: 0, mid: 0, end: 2\n",
      "slot After merge: [1, 2, 4]\n",
      "Sorted array: [1, 2, 4]\n"
     ]
    }
   ],
   "source": [
    "def merge(slot, start, midpointer, end):\n",
    "    print(f\"slot Before merge: {slot}\")\n",
    "    print(f\"start: {start}, mid: {midpointer}, end: {end}\")\n",
    "\n",
    "    n = start\n",
    "    m = end\n",
    "    mid = midpointer\n",
    "    a = n\n",
    "    b = mid + 1\n",
    "\n",
    "    if m - n <= 0:\n",
    "        return\n",
    "\n",
    "    while a <= mid and b <= m:\n",
    "        comparison = is_first_larger(slot[a], slot[b])\n",
    "\n",
    "        if comparison == 0:  # slot[a] < slot[b] (no swap needed)\n",
    "            a += 1\n",
    "        elif comparison == 1:  # slot[a] > slot[b]\n",
    "            tmp = slot[b]\n",
    "            b += 1\n",
    "\n",
    "            for i in range(mid + 1, a, -1):\n",
    "                slot[i] = slot[i - 1]\n",
    "\n",
    "            slot[a] = tmp\n",
    "            a += 1\n",
    "            mid += 1\n",
    "        elif comparison == 2:  # slot[a] == slot[b]\n",
    "            if a==mid and b ==m:\n",
    "                break\n",
    "            tmp = slot[b]\n",
    "            b += 1\n",
    "            a += 1\n",
    "            mid += 1\n",
    "            for i in range(mid,a,-1):\n",
    "                slot[i] = slot[i-1]\n",
    "            slot[a] = tmp\n",
    "\n",
    "    print(f\"slot After merge: {slot}\")\n",
    "\n",
    "\n",
    "def merge_sort(slot):\n",
    "    if len(slot) > 1:\n",
    "        print(f\"slot: {slot}\")\n",
    "        left = slot[:len(slot) // 2]\n",
    "        right = slot[len(slot) // 2:]\n",
    "\n",
    "        print(f\"left: {left}\")\n",
    "        print(f\"right: {right}\")\n",
    "        print(\"=\" * 100)\n",
    "\n",
    "        merge_sort(left)\n",
    "        merge_sort(right)\n",
    "\n",
    "        slot[:] = left + right\n",
    "\n",
    "        merge(slot, 0, len(left) - 1, len(slot) - 1)\n",
    "\n",
    "    return slot\n",
    "\n",
    "\n",
    "def is_first_larger(x, y):\n",
    "    if x > y:\n",
    "        return 1\n",
    "    elif x < y:\n",
    "        return 0\n",
    "    else:\n",
    "        return 2\n",
    "\n",
    "\n",
    "# Example usage:\n",
    "arr = [1,2,4]\n",
    "sorted_arr = merge_sort(arr)\n",
    "print(f\"Sorted array: {sorted_arr}\")"
   ]
  },
  {
   "cell_type": "code",
   "execution_count": null,
   "id": "932a397f",
   "metadata": {},
   "outputs": [],
   "source": []
  }
 ],
 "metadata": {
  "kernelspec": {
   "display_name": "Python 3 (ipykernel)",
   "language": "python",
   "name": "python3"
  },
  "language_info": {
   "codemirror_mode": {
    "name": "ipython",
    "version": 3
   },
   "file_extension": ".py",
   "mimetype": "text/x-python",
   "name": "python",
   "nbconvert_exporter": "python",
   "pygments_lexer": "ipython3",
   "version": "3.12.4"
  }
 },
 "nbformat": 4,
 "nbformat_minor": 5
}
