{
 "cells": [
  {
   "cell_type": "code",
   "execution_count": 1,
   "id": "4000813d",
   "metadata": {},
   "outputs": [],
   "source": [
    "import pandas as pd\n",
    "import numpy as np"
   ]
  },
  {
   "cell_type": "code",
   "execution_count": 4,
   "id": "2c1351a3",
   "metadata": {},
   "outputs": [
    {
     "name": "stdout",
     "output_type": "stream",
     "text": [
      "[88  0 76 86 78 88 95 69 10 56]\n",
      "slot: [88  0 76 86 78 88 95 69 10 56]\n",
      "left: [88  0 76 86 78]\n",
      "right: [88 95 69 10 56]\n",
      "====================================================================================================\n",
      "slot: [88  0 76 86 78]\n",
      "left: [88  0]\n",
      "right: [76 86 78]\n",
      "====================================================================================================\n",
      "slot: [88  0]\n",
      "left: [88]\n",
      "right: [0]\n",
      "====================================================================================================\n",
      "slot Before merge: [88 88]\n",
      "start: 0, mid: 0, end: 1\n",
      "slot After merge: [88 88]\n",
      "slot: [76 86 78]\n",
      "left: [76]\n",
      "right: [86 78]\n",
      "====================================================================================================\n",
      "slot: [86 78]\n",
      "left: [86]\n",
      "right: [78]\n",
      "====================================================================================================\n",
      "slot Before merge: [164 164]\n",
      "start: 0, mid: 0, end: 1\n",
      "slot After merge: [164 164]\n"
     ]
    },
    {
     "ename": "ValueError",
     "evalue": "could not broadcast input array from shape (2,) into shape (3,)",
     "output_type": "error",
     "traceback": [
      "\u001b[1;31m---------------------------------------------------------------------------\u001b[0m",
      "\u001b[1;31mValueError\u001b[0m                                Traceback (most recent call last)",
      "Cell \u001b[1;32mIn[4], line 87\u001b[0m\n\u001b[0;32m     85\u001b[0m arr \u001b[38;5;241m=\u001b[39m np\u001b[38;5;241m.\u001b[39mrandom\u001b[38;5;241m.\u001b[39mrandint(\u001b[38;5;241m0\u001b[39m, \u001b[38;5;241m100\u001b[39m, chunk_size)\n\u001b[0;32m     86\u001b[0m \u001b[38;5;28mprint\u001b[39m(arr)\n\u001b[1;32m---> 87\u001b[0m sorted_arr \u001b[38;5;241m=\u001b[39m merge_sort(arr)\n\u001b[0;32m     88\u001b[0m \u001b[38;5;28mprint\u001b[39m(\u001b[38;5;124mf\u001b[39m\u001b[38;5;124m\"\u001b[39m\u001b[38;5;124mSorted array: \u001b[39m\u001b[38;5;132;01m{\u001b[39;00msorted_arr\u001b[38;5;132;01m}\u001b[39;00m\u001b[38;5;124m\"\u001b[39m)\n",
      "Cell \u001b[1;32mIn[4], line 53\u001b[0m, in \u001b[0;36mmerge_sort\u001b[1;34m(slot)\u001b[0m\n\u001b[0;32m     50\u001b[0m \u001b[38;5;28mprint\u001b[39m(\u001b[38;5;124mf\u001b[39m\u001b[38;5;124m\"\u001b[39m\u001b[38;5;124mright: \u001b[39m\u001b[38;5;132;01m{\u001b[39;00mright\u001b[38;5;132;01m}\u001b[39;00m\u001b[38;5;124m\"\u001b[39m)\n\u001b[0;32m     51\u001b[0m \u001b[38;5;28mprint\u001b[39m(\u001b[38;5;124m\"\u001b[39m\u001b[38;5;124m=\u001b[39m\u001b[38;5;124m\"\u001b[39m \u001b[38;5;241m*\u001b[39m \u001b[38;5;241m100\u001b[39m)\n\u001b[1;32m---> 53\u001b[0m merge_sort(left)\n\u001b[0;32m     54\u001b[0m merge_sort(right)\n\u001b[0;32m     56\u001b[0m slot[:] \u001b[38;5;241m=\u001b[39m left \u001b[38;5;241m+\u001b[39m right\n",
      "Cell \u001b[1;32mIn[4], line 54\u001b[0m, in \u001b[0;36mmerge_sort\u001b[1;34m(slot)\u001b[0m\n\u001b[0;32m     51\u001b[0m \u001b[38;5;28mprint\u001b[39m(\u001b[38;5;124m\"\u001b[39m\u001b[38;5;124m=\u001b[39m\u001b[38;5;124m\"\u001b[39m \u001b[38;5;241m*\u001b[39m \u001b[38;5;241m100\u001b[39m)\n\u001b[0;32m     53\u001b[0m merge_sort(left)\n\u001b[1;32m---> 54\u001b[0m merge_sort(right)\n\u001b[0;32m     56\u001b[0m slot[:] \u001b[38;5;241m=\u001b[39m left \u001b[38;5;241m+\u001b[39m right\n\u001b[0;32m     58\u001b[0m merge(slot, \u001b[38;5;241m0\u001b[39m, \u001b[38;5;28mlen\u001b[39m(left) \u001b[38;5;241m-\u001b[39m \u001b[38;5;241m1\u001b[39m, \u001b[38;5;28mlen\u001b[39m(slot) \u001b[38;5;241m-\u001b[39m \u001b[38;5;241m1\u001b[39m)\n",
      "Cell \u001b[1;32mIn[4], line 56\u001b[0m, in \u001b[0;36mmerge_sort\u001b[1;34m(slot)\u001b[0m\n\u001b[0;32m     53\u001b[0m     merge_sort(left)\n\u001b[0;32m     54\u001b[0m     merge_sort(right)\n\u001b[1;32m---> 56\u001b[0m     slot[:] \u001b[38;5;241m=\u001b[39m left \u001b[38;5;241m+\u001b[39m right\n\u001b[0;32m     58\u001b[0m     merge(slot, \u001b[38;5;241m0\u001b[39m, \u001b[38;5;28mlen\u001b[39m(left) \u001b[38;5;241m-\u001b[39m \u001b[38;5;241m1\u001b[39m, \u001b[38;5;28mlen\u001b[39m(slot) \u001b[38;5;241m-\u001b[39m \u001b[38;5;241m1\u001b[39m)\n\u001b[0;32m     60\u001b[0m \u001b[38;5;28;01mreturn\u001b[39;00m slot\n",
      "\u001b[1;31mValueError\u001b[0m: could not broadcast input array from shape (2,) into shape (3,)"
     ]
    }
   ],
   "source": [
    "def insertion_sort(a_list, start, end):\n",
    "    for i in range(start + 1, end + 1):\n",
    "        for j in range(i, start, -1):\n",
    "            if a_list[j] < a_list[j - 1]:\n",
    "                a_list[j], a_list[j - 1] = a_list[j - 1], a_list[j]\n",
    "            else:\n",
    "                break\n",
    "\n",
    "\n",
    "def merge(slot, start, midpointer, end):\n",
    "    n = start\n",
    "    m = end\n",
    "    mid = midpointer\n",
    "    a = n\n",
    "    b = mid + 1\n",
    "\n",
    "    if m - n <= 0:\n",
    "        return\n",
    "\n",
    "    while a <= mid and b <= m:\n",
    "        if slot[a] <= slot[b]:  # No swap needed\n",
    "            a += 1\n",
    "        else:  # slot[a] > slot[b]\n",
    "            tmp = slot[b]\n",
    "            b += 1\n",
    "\n",
    "            for i in range(mid + 1, a, -1):\n",
    "                slot[i] = slot[i - 1]\n",
    "\n",
    "            slot[a] = tmp\n",
    "            a += 1\n",
    "            mid += 1\n",
    "\n",
    "\n",
    "def merge_insertion_sort(slot, start, end, threshold):\n",
    "    if end - start <= threshold:\n",
    "        insertion_sort(slot, start, end)\n",
    "    else:\n",
    "        mid = (start + end) // 2\n",
    "\n",
    "        merge_insertion_sort(slot, start, mid, threshold)\n",
    "        merge_insertion_sort(slot, mid + 1, end, threshold)\n",
    "\n",
    "        merge(slot, start, mid, end)\n",
    "\n",
    "\n",
    "def hybrid_merge_insertion_sort(arr, threshold=10):\n",
    "    merge_insertion_sort(arr, 0, len(arr) - 1, threshold)\n",
    "    return arr\n",
    "\n",
    "\n",
    "# Example usage:\n",
    "arr = [38, 27, 43, 3, 9, 82, 10]\n",
    "sorted_arr = hybrid_merge_insertion_sort(arr, threshold=5)\n",
    "print(f\"Sorted array: {sorted_arr}\")"
   ]
  },
  {
   "cell_type": "code",
   "execution_count": null,
   "id": "6949dd50",
   "metadata": {},
   "outputs": [],
   "source": []
  }
 ],
 "metadata": {
  "kernelspec": {
   "display_name": "Python 3 (ipykernel)",
   "language": "python",
   "name": "python3"
  },
  "language_info": {
   "codemirror_mode": {
    "name": "ipython",
    "version": 3
   },
   "file_extension": ".py",
   "mimetype": "text/x-python",
   "name": "python",
   "nbconvert_exporter": "python",
   "pygments_lexer": "ipython3",
   "version": "3.11.5"
  }
 },
 "nbformat": 4,
 "nbformat_minor": 5
}
