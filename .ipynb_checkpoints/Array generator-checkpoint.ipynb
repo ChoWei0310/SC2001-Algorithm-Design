{
 "cells": [
  {
   "cell_type": "code",
   "execution_count": 1,
   "id": "fe9a5872",
   "metadata": {},
   "outputs": [],
   "source": [
    "import pandas as pd\n",
    "import numpy as np"
   ]
  },
  {
   "cell_type": "code",
   "execution_count": null,
   "id": "d520c2e8",
   "metadata": {},
   "outputs": [],
   "source": [
    "# Define the size of the array\n",
    "size = 1000000  # Example size\n",
    "\n",
    "# Define the range of random integers\n",
    "low = 0\n",
    "high = 10000000\n",
    "\n",
    "# Generate the random integer array in chunks\n",
    "chunk_size = 0  # Define chunk size\n",
    "chunks = []\n",
    "\n",
    "for _ in range(10000000//1000):\n",
    "    chunk_size += 1000\n",
    "    chunk = np.random.randint(low, high, chunk_size)\n",
    "    chunks.append(chunk)\n",
    "\n",
    "print(chunks)\n",
    "    \n",
    "'''\n",
    "# Convert to a pandas DataFrame if needed\n",
    "df = pd.DataFrame(random_array, columns=['RandomIntegers'])\n",
    "\n",
    "# Print the shape of the DataFrame\n",
    "print(df.shape)\n",
    "'''"
   ]
  },
  {
   "cell_type": "code",
   "execution_count": null,
   "id": "8250037f",
   "metadata": {},
   "outputs": [],
   "source": []
  }
 ],
 "metadata": {
  "kernelspec": {
   "display_name": "Python 3 (ipykernel)",
   "language": "python",
   "name": "python3"
  },
  "language_info": {
   "codemirror_mode": {
    "name": "ipython",
    "version": 3
   },
   "file_extension": ".py",
   "mimetype": "text/x-python",
   "name": "python",
   "nbconvert_exporter": "python",
   "pygments_lexer": "ipython3",
   "version": "3.11.5"
  }
 },
 "nbformat": 4,
 "nbformat_minor": 5
}
