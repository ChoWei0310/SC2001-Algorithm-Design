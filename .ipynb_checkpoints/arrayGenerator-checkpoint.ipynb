{
 "cells": [
  {
   "cell_type": "code",
   "execution_count": 1,
   "id": "fe9a5872",
   "metadata": {},
   "outputs": [],
   "source": [
    "import pandas as pd\n",
    "import numpy as np\n",
    "import random"
   ]
  },
  {
   "cell_type": "code",
   "execution_count": null,
   "id": "d520c2e8",
   "metadata": {},
   "outputs": [],
   "source": [
    "def generate_random_array(min_length=1000, max_length=10000000, min_value=0, max_value=1000000):\n",
    "    \"\"\"\n",
    "    Generate a random array of integers.\n",
    "    \n",
    "    Parameters:\n",
    "    min_length (int): Minimum length of the array.\n",
    "    max_length (int): Maximum length of the array.\n",
    "    min_value (int): Minimum value for array elements.\n",
    "    max_value (int): Maximum value for array elements.\n",
    "\n",
    "    Returns:\n",
    "    list: A list of random integers.\n",
    "    \"\"\"\n",
    "    length = random.randint(min_length, max_length)\n",
    "    return [random.randint(min_value, max_value) for _ in range(length)]\n",
    "\n",
    "# Example usage:\n",
    "random_array = generate_random_array()\n",
    "print(f\"Generated array of length {len(random_array)}\")\n"
   ]
  },
  {
   "cell_type": "code",
   "execution_count": null,
   "id": "8250037f",
   "metadata": {},
   "outputs": [],
   "source": []
  }
 ],
 "metadata": {
  "kernelspec": {
   "display_name": "Python 3 (ipykernel)",
   "language": "python",
   "name": "python3"
  },
  "language_info": {
   "codemirror_mode": {
    "name": "ipython",
    "version": 3
   },
   "file_extension": ".py",
   "mimetype": "text/x-python",
   "name": "python",
   "nbconvert_exporter": "python",
   "pygments_lexer": "ipython3",
   "version": "3.12.4"
  }
 },
 "nbformat": 4,
 "nbformat_minor": 5
}
