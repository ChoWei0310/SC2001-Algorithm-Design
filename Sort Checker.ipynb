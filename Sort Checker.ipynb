{
 "cells": [
  {
   "cell_type": "code",
   "execution_count": 2,
   "id": "e3ea12c3",
   "metadata": {},
   "outputs": [],
   "source": [
    "def check_if_sorted(arr):\n",
    "    not_sorted = False\n",
    "    for i in range(len(arr) - 1):\n",
    "        if lst[i] > lst[i + 1]:\n",
    "            not_sorted = True\n",
    "            break\n",
    "    if not_sorted:\n",
    "        print(\"NOT SORTED\")\n",
    "    else:\n",
    "        print(\"SORTED\")"
   ]
  },
  {
   "cell_type": "code",
   "execution_count": null,
   "id": "9d42cc3a",
   "metadata": {},
   "outputs": [],
   "source": []
  }
 ],
 "metadata": {
  "kernelspec": {
   "display_name": "Python 3 (ipykernel)",
   "language": "python",
   "name": "python3"
  },
  "language_info": {
   "codemirror_mode": {
    "name": "ipython",
    "version": 3
   },
   "file_extension": ".py",
   "mimetype": "text/x-python",
   "name": "python",
   "nbconvert_exporter": "python",
   "pygments_lexer": "ipython3",
   "version": "3.11.5"
  }
 },
 "nbformat": 4,
 "nbformat_minor": 5
}
