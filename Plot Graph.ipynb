{
 "cells": [
  {
   "cell_type": "code",
   "execution_count": 2,
   "id": "d07dd166",
   "metadata": {},
   "outputs": [],
   "source": [
    "import pandas as pd\n",
    "import numpy as np\n",
    "import seaborn as sb\n",
    "import matplotlib.pyplot as plt"
   ]
  },
  {
   "cell_type": "code",
   "execution_count": null,
   "id": "cda12125",
   "metadata": {},
   "outputs": [],
   "source": [
    "#to be import\n",
    "hybrid_df = pd.read_csv(\"\") \n",
    "standard_merge_df = pd.read_csv(\"\")"
   ]
  },
  {
   "cell_type": "markdown",
   "id": "7b1d0d09",
   "metadata": {},
   "source": [
    "## Key Comparisons\n",
    "1. Emphirical vs Theoretical (for Hybrid Merge-Insertion Sort)\n",
    "2. Hybrid Merge-Insertion Sort vs Standard Merge Sort"
   ]
  },
  {
   "cell_type": "code",
   "execution_count": null,
   "id": "501842a4",
   "metadata": {},
   "outputs": [],
   "source": [
    "n = hybrid_df[\"n\"].unique()\n",
    "theoretical_values = #Yet to determine\n",
    "\n",
    "# line plot for Emphirical vs Theoretical\n",
    "f, ax = plt.subplots(1, 2, figsize=(15, 5))\n",
    "\n",
    "sb.lineplot(data=hybrid_df, y=\"compareCount\", x=\"n\", ax=ax[0], label=\"Emphirical\")\n",
    "ax[0].set_title(\"Empirical vs Theoretical\") \n",
    "\n",
    "# Plot the theoretical analysis curve\n",
    "ax[0].plot(\n",
    "    n_values, theoretical_values, label=\"Theoretical\", linestyle=\"--\", color=\"red\"\n",
    ")\n",
    "ax[0].legend() \n",
    "\n",
    "\n",
    "# line plot for Hybrid vs Standard Merge Sort\n",
    "sb.lineplot(data=hybrid_df, y=\"compareCount\", x=\"n\", ax=ax[1], label=\"Hybrid Merge Sort\", color=\"blue\")\n",
    "sb.lineplot(data=standard_merge_df, y=\"compareCount\", x=\"n\", ax=ax[0], label=\"Standard Merge Sort\", color=\"red\")\n",
    "ax[1].set_title(\"Hybrid vs Standard\")  \n",
    "\n",
    "# Set x-axis limits to show from 0 to 50,000,000\n",
    "x_min = 0\n",
    "x_max = 50_000_000  # Use underscores for readability\n",
    "\n",
    "ax[0].set_xlim(x_min, x_max)\n",
    "ax[1].set_xlim(x_min, x_max)\n",
    "\n",
    "# tight layout to prevent overlapping\n",
    "plt.tight_layout()\n",
    "\n",
    "plt.show()"
   ]
  },
  {
   "cell_type": "markdown",
   "id": "b732cfcf",
   "metadata": {},
   "source": [
    "## Run Time\n",
    "1. Hybrid Merge-Insertion Sort (Emphirical)\n",
    "2. Hybrid Merge-Insertion Sort vs Standard Merge Sort"
   ]
  },
  {
   "cell_type": "code",
   "execution_count": null,
   "id": "5b33222a",
   "metadata": {},
   "outputs": [],
   "source": [
    "# line plot for key comparison\n",
    "f, ax = plt.subplots(1, 2, figsize=(15, 5))\n",
    "\n",
    "sb.lineplot(data=hybrid_df,y=\"time\",x=\"n\",ax=ax[0], label=\"Emphirical\")\n",
    "ax[0].set_title(\"Hybrid (Emphirical)\")  # set title for first subplot\n",
    "ax[0].legend()  # Add a legend to the plot\n",
    "\n",
    "# line plot for time\n",
    "sb.lineplot(data=hybrid_df,y=\"time\",x=\"n\",ax=ax[1], label=\"Emphirical\", color=\"blue\")\n",
    "sb.lineplot(data=standard_merge_df,y=\"time\",x=\"n\",ax=ax[1], label=\"Emphirical\", color=\"red\")\n",
    "ax[1].set_title(\"Hybrid vs Standard\")  # set title for second subplot\n",
    "\n",
    "# Set x-axis limits to show from 0 to 50,000,000\n",
    "x_min = 0\n",
    "x_max = 50_000_000  # Use underscores for readability\n",
    "\n",
    "ax[0].set_xlim(x_min, x_max)\n",
    "ax[1].set_xlim(x_min, x_max)\n",
    "\n",
    "# tight layout to prevent overlapping\n",
    "plt.tight_layout()\n",
    "\n",
    "plt.show()"
   ]
  }
 ],
 "metadata": {
  "kernelspec": {
   "display_name": "Python 3 (ipykernel)",
   "language": "python",
   "name": "python3"
  },
  "language_info": {
   "codemirror_mode": {
    "name": "ipython",
    "version": 3
   },
   "file_extension": ".py",
   "mimetype": "text/x-python",
   "name": "python",
   "nbconvert_exporter": "python",
   "pygments_lexer": "ipython3",
   "version": "3.11.5"
  }
 },
 "nbformat": 4,
 "nbformat_minor": 5
}
