{
 "cells": [
  {
   "cell_type": "code",
   "execution_count": 1,
   "id": "ab16d519",
   "metadata": {},
   "outputs": [],
   "source": [
    "import pandas as pd\n",
    "import numpy as np\n",
    "import seaborn as sb\n",
    "import matplotlib.pyplot as plt\n",
    "from scipy.interpolate import make_interp_spline"
   ]
  },
  {
   "cell_type": "markdown",
   "id": "33a8d00a",
   "metadata": {},
   "source": [
    "### Import SPARSE.csv"
   ]
  },
  {
   "cell_type": "code",
   "execution_count": null,
   "id": "0a9ed015",
   "metadata": {},
   "outputs": [],
   "source": [
    "df = pd.read_csv(\"1kmaxVer_1kmaxWeight_1kgraph_.csv\")\n",
    "df"
   ]
  }
 ],
 "metadata": {
  "kernelspec": {
   "display_name": "Python 3 (ipykernel)",
   "language": "python",
   "name": "python3"
  },
  "language_info": {
   "codemirror_mode": {
    "name": "ipython",
    "version": 3
   },
   "file_extension": ".py",
   "mimetype": "text/x-python",
   "name": "python",
   "nbconvert_exporter": "python",
   "pygments_lexer": "ipython3",
   "version": "3.11.5"
  }
 },
 "nbformat": 4,
 "nbformat_minor": 5
}
