{
 "cells": [
  {
   "cell_type": "code",
   "execution_count": 15,
   "id": "fe9a5872",
   "metadata": {},
   "outputs": [],
   "source": [
    "import pandas as pd\n",
    "import numpy as np\n",
    "import random"
   ]
  },
  {
   "cell_type": "code",
   "execution_count": 17,
   "id": "d520c2e8",
   "metadata": {},
   "outputs": [
    {
     "name": "stdin",
     "output_type": "stream",
     "text": [
      "Enter the desired length of the array (between 1,000 and 10,000,000):  5000\n"
     ]
    },
    {
     "name": "stdout",
     "output_type": "stream",
     "text": [
      "Array of length 5000 exported to 5000_output_array.txt\n"
     ]
    }
   ],
   "source": [
    "import random\n",
    "\n",
    "def generate_random_array(length, min_value=0, max_value=1000000):\n",
    "    \"\"\"\n",
    "    Generate a random array of integers.\n",
    "    \n",
    "    Parameters:\n",
    "    length (int): Length of the array.\n",
    "    min_value (int): Minimum value for array elements.\n",
    "    max_value (int): Maximum value for array elements.\n",
    "\n",
    "    Returns:\n",
    "    list: A list of random integers.\n",
    "    \"\"\"\n",
    "    return [random.randint(min_value, max_value) for _ in range(length)]\n",
    "\n",
    "def export_array_to_file(array, file_name='output.txt'):\n",
    "    \"\"\"\n",
    "    Export the array to a text file.\n",
    "    \n",
    "    Parameters:\n",
    "    array (list): The list of integers to export.\n",
    "    file_name (str): The name of the output file.\n",
    "    \"\"\"\n",
    "    with open(file_name, 'w') as file:\n",
    "        file.write(' '.join(map(str, array)))\n",
    "\n",
    "if __name__ == \"__main__\":\n",
    "    # Prompt user for the length of the array\n",
    "    length = int(input(\"Enter the desired length of the array (between 1,000 and 10,000,000): \"))\n",
    "    \n",
    "    # Validate the input\n",
    "    if length < 1000 or length > 10000000:\n",
    "        print(\"Please enter a number between 1,000 and 10,000,000.\")\n",
    "    else:\n",
    "        # Generate the array\n",
    "        random_array = generate_random_array(length)\n",
    "        \n",
    "        # Specify the output file name\n",
    "        output_file_name = f\"{length}_output_array.txt\"\n",
    "        \n",
    "        # Export the array to the file\n",
    "        export_array_to_file(random_array, file_name=output_file_name)\n",
    "        \n",
    "        print(f\"Array of length {len(random_array)} exported to {output_file_name}\")\n"
   ]
  },
  {
   "cell_type": "code",
   "execution_count": null,
   "id": "8250037f",
   "metadata": {},
   "outputs": [],
   "source": []
  }
 ],
 "metadata": {
  "kernelspec": {
   "display_name": "Python 3 (ipykernel)",
   "language": "python",
   "name": "python3"
  },
  "language_info": {
   "codemirror_mode": {
    "name": "ipython",
    "version": 3
   },
   "file_extension": ".py",
   "mimetype": "text/x-python",
   "name": "python",
   "nbconvert_exporter": "python",
   "pygments_lexer": "ipython3",
   "version": "3.12.4"
  }
 },
 "nbformat": 4,
 "nbformat_minor": 5
}
